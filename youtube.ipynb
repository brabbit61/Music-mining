{
 "cells": [
  {
   "cell_type": "code",
   "execution_count": 20,
   "metadata": {},
   "outputs": [],
   "source": [
    "from ytmusicapi import YTMusic"
   ]
  },
  {
   "cell_type": "code",
   "execution_count": 21,
   "metadata": {},
   "outputs": [],
   "source": [
    "yt = YTMusic(\"youtube_music_credentials.json\")"
   ]
  },
  {
   "cell_type": "code",
   "execution_count": 22,
   "metadata": {},
   "outputs": [],
   "source": [
    "liked = yt.get_liked_songs(limit = None)"
   ]
  },
  {
   "cell_type": "code",
   "execution_count": 29,
   "metadata": {},
   "outputs": [
    {
     "data": {
      "text/plain": [
       "{'videoId': 'j2R6uT7uLFg',\n",
       " 'title': 'Last Resort',\n",
       " 'artists': [{'name': 'Papa Roach', 'id': 'UCRiFekze9Yx5zDDjAVrYvbg'}],\n",
       " 'album': {'name': 'Infest', 'id': 'MPREb_cv3dgfHNJ1j'},\n",
       " 'likeStatus': 'LIKE',\n",
       " 'thumbnails': [{'url': 'https://lh3.googleusercontent.com/UOqZS25iQnlpJCJLtweobidchyC_hG3x-abJj0l-ATFzK4-esEaK8WHGKaj4saMFiPE6ndzu98bpZoE=w60-h60-l90-rj',\n",
       "   'width': 60,\n",
       "   'height': 60},\n",
       "  {'url': 'https://lh3.googleusercontent.com/UOqZS25iQnlpJCJLtweobidchyC_hG3x-abJj0l-ATFzK4-esEaK8WHGKaj4saMFiPE6ndzu98bpZoE=w120-h120-l90-rj',\n",
       "   'width': 120,\n",
       "   'height': 120}],\n",
       " 'isAvailable': True,\n",
       " 'isExplicit': True,\n",
       " 'videoType': 'MUSIC_VIDEO_TYPE_ATV',\n",
       " 'duration': '3:20',\n",
       " 'duration_seconds': 200,\n",
       " 'feedbackTokens': {'add': 'AB9zfpJcfBif4oRvOMtT5hWO9YvyLN53IvF7leVefITIDUok3vbUkT60GS0xAN2FP2UvXWmN9fVzrlWtoWCkRsKreTPRgGwjxg',\n",
       "  'remove': 'AB9zfpISno4hE7EkWZfVt9BUyxTqhNE19qt3ZWn4oMNz4KH4o3r0URS09uTmqyD6LYtb_RPOTzTVQy-UPBrreSj_yO6blfZCVg'}}"
      ]
     },
     "execution_count": 29,
     "metadata": {},
     "output_type": "execute_result"
    }
   ],
   "source": [
    "liked.get(\"tracks\")[0]"
   ]
  },
  {
   "cell_type": "code",
   "execution_count": null,
   "metadata": {},
   "outputs": [],
   "source": []
  }
 ],
 "metadata": {
  "kernelspec": {
   "display_name": "573",
   "language": "python",
   "name": "python3"
  },
  "language_info": {
   "codemirror_mode": {
    "name": "ipython",
    "version": 3
   },
   "file_extension": ".py",
   "mimetype": "text/x-python",
   "name": "python",
   "nbconvert_exporter": "python",
   "pygments_lexer": "ipython3",
   "version": "3.10.6 | packaged by conda-forge | (main, Aug 22 2022, 20:35:26) [GCC 10.4.0]"
  },
  "orig_nbformat": 4,
  "vscode": {
   "interpreter": {
    "hash": "e11d0c4061f56f3cefa52bddf5813e6300aa93e5d5bc99c07fb2c654e74c78a8"
   }
  }
 },
 "nbformat": 4,
 "nbformat_minor": 2
}
